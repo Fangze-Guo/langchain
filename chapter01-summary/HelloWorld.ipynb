{
 "cells": [
  {
   "cell_type": "code",
   "execution_count": 4,
   "id": "565401a5",
   "metadata": {},
   "outputs": [
    {
     "name": "stdout",
     "output_type": "stream",
     "text": [
      "你好！我是DeepSeek，由深度求索公司创造的AI助手！😊\n",
      "\n",
      "我是一个纯文本模型，虽然不支持多模态识别功能，但我可以帮你处理上传的各种文件，比如图像、txt、pdf、ppt、word、excel等文件，并从中读取文字信息进行分析处理。\n",
      "\n",
      "我的一些特点包括：\n",
      "- 💰 完全免费使用\n",
      "- 📱 支持Web和App，可以通过官方应用商店下载\n",
      "- 🔍 支持联网搜索（需要手动开启）\n",
      "- 📚 拥有128K的上下文长度\n",
      "- 📅 知识截止到2024年7月\n",
      "\n",
      "我会以热情、细腻的方式为你提供帮助，无论是回答问题、协助分析、创作内容还是解决实际问题，我都很乐意助你一臂之力！\n",
      "\n",
      "有什么我可以帮你的吗？✨\n"
     ]
    }
   ],
   "source": [
    "import dotenv\n",
    "import os\n",
    "from langchain_openai import ChatOpenAI\n",
    "\n",
    "dotenv.load_dotenv()\n",
    "\n",
    "llm = ChatOpenAI(\n",
    "    model=\"deepseek-chat\",\n",
    "    api_key=os.getenv(\"DEEPSEEK_API_KEY\"),\n",
    "    base_url=os.getenv(\"DEEPSEEK_BASE_URL\"),\n",
    ")\n",
    "\n",
    "response = llm.invoke(\"你是谁\")\n",
    "print(response.content)"
   ]
  },
  {
   "cell_type": "code",
   "execution_count": 7,
   "id": "65a726ad",
   "metadata": {},
   "outputs": [
    {
     "name": "stdout",
     "output_type": "stream",
     "text": [
      "LangChain是一个用于开发大语言模型应用的框架，它通过组件化设计解决了传统大模型应用开发中的几个核心问题：\n",
      "\n",
      "## 核心概念\n",
      "\n",
      "**链式架构**：将复杂的AI任务分解为多个可组合的步骤，形成处理流水线\n",
      "\n",
      "**组件化设计**：提供标准化的模块，包括：\n",
      "- 模型接口（OpenAI、Anthropic等）\n",
      "- 提示模板\n",
      "- 记忆管理\n",
      "- 文档加载器\n",
      "- 向量存储\n",
      "- 代理系统\n",
      "\n",
      "## 主要功能模块\n",
      "\n",
      "### 1. 模型层\n",
      "- 统一接口接入多种大语言模型\n",
      "- 支持聊天模型和文本补全模型\n",
      "- 内置流式输出处理\n",
      "\n",
      "### 2. 记忆管理\n",
      "- 对话历史维护\n",
      "- 短期/长期记忆分离\n",
      "- 上下文窗口优化\n",
      "\n",
      "### 3. 文档处理\n",
      "- 多格式文档加载（PDF、HTML、Markdown等）\n",
      "- 文本分块和向量化\n",
      "- 语义检索增强\n",
      "\n",
      "### 4. 代理系统\n",
      "- 工具调用能力\n",
      "- 多步骤推理\n",
      "- 自主决策流程\n",
      "\n",
      "## 典型应用场景\n",
      "\n",
      "**智能问答系统**：结合文档检索和对话能力\n",
      "**数据分析助手**：连接数据库和计算工具\n",
      "**自动化工作流**：多步骤任务编排\n",
      "**知识管理系统**：企业文档智能查询\n",
      "\n",
      "## 技术优势\n",
      "\n",
      "1. **降低开发门槛**：预置常用模式，减少重复代码\n",
      "2. **提升可维护性**：模块化设计便于调试和扩展\n",
      "3. **增强可靠性**：内置错误处理和重试机制\n",
      "4. **生态丰富**：活跃的社区和大量现成组件\n",
      "\n",
      "LangChain已成为构建生产级大模型应用的事实标准，特别适合需要集成外部数据源和工具链的复杂场景。\n"
     ]
    }
   ],
   "source": [
    "from langchain_core.prompts import ChatPromptTemplate\n",
    "\n",
    "# 提示词模板\n",
    "prompt = ChatPromptTemplate.from_messages([\n",
    "    (\"system\", \"你是一个世界级文档撰写高手\"),\n",
    "    (\"user\", \"{input}\"),\n",
    "])\n",
    "\n",
    "chain = prompt | llm\n",
    "response = chain.invoke({\"input\": \"大模型中的LangChain是什么？\"})\n",
    "print(response.content)"
   ]
  },
  {
   "cell_type": "code",
   "execution_count": null,
   "id": "c7a1ba3d",
   "metadata": {},
   "outputs": [
    {
     "name": "stdout",
     "output_type": "stream",
     "text": [
      "{'question': '大模型中的LangChain是什么？', 'answer': 'LangChain是一个开源框架，专门用于构建基于大语言模型（LLM）的应用程序。它提供了一套完整的工具链和组件，帮助开发者更高效地开发、部署和管理LLM应用。主要特点包括：\\n\\n1. 模块化设计：提供Prompt模板、链式调用、记忆机制、代理等核心组件\\n2. 多模型支持：兼容OpenAI、Anthropic、Hugging Face等多种大模型\\n3. 工具集成：支持与外部数据源、API、数据库等进行交互\\n4. 应用场景：适用于聊天机器人、问答系统、文档分析、代码生成等多种应用'}\n"
     ]
    }
   ],
   "source": [
    "from langchain_core.output_parsers import JsonOutputParser\n",
    "\n",
    "# 输出解析器\n",
    "output_parser = JsonOutputParser()\n",
    "\n",
    "chain = prompt | llm | output_parser\n",
    "\n",
    "response = chain.invoke(\n",
    "    {\"input\": \"大模型中的LangChain是什么？用JSON格式恢复，问题用question, 回答用 anser\"}\n",
    ")\n",
    "print(response)"
   ]
  }
 ],
 "metadata": {
  "kernelspec": {
   "display_name": "langchain",
   "language": "python",
   "name": "python3"
  },
  "language_info": {
   "codemirror_mode": {
    "name": "ipython",
    "version": 3
   },
   "file_extension": ".py",
   "mimetype": "text/x-python",
   "name": "python",
   "nbconvert_exporter": "python",
   "pygments_lexer": "ipython3",
   "version": "3.10.18"
  }
 },
 "nbformat": 4,
 "nbformat_minor": 5
}
