{
 "cells": [
  {
   "cell_type": "code",
   "execution_count": null,
   "id": "e1021022",
   "metadata": {},
   "outputs": [],
   "source": [
    "# 非对话模型\n",
    "\n",
    "import dotenv\n",
    "import os\n",
    "\n",
    "from langchain_openai import OpenAI\n",
    "\n",
    "dotenv.load_dotenv()\n",
    "os.environ[\"OPENAI_BASE_URL\"] = os.getenv(\"OPENAI_BASE_URL\")\n",
    "os.environ[\"OPENAI_API_KEY\"] = os.getenv(\"OPENAI_API_KEY\")\n",
    "\n",
    "llm = OpenAI()\n",
    "str = llm.invoke(\"你好\")\n",
    "print(str)\n",
    "print(type(str))"
   ]
  },
  {
   "cell_type": "code",
   "execution_count": 3,
   "id": "e43c6837",
   "metadata": {},
   "outputs": [
    {
     "name": "stdout",
     "output_type": "stream",
     "text": [
      "你好！😊 很高兴见到你！\n",
      "\n",
      "我是DeepSeek，由深度求索公司创造的AI助手。我可以帮你解答问题、进行对话、处理文档，还有很多其他功能呢～\n",
      "\n",
      "有什么我可以帮你的吗？无论是学习、工作还是日常生活中的问题，我都很乐意为你提供帮助！✨\n"
     ]
    }
   ],
   "source": [
    "import dotenv\n",
    "import os\n",
    "\n",
    "from langchain_openai import ChatOpenAI\n",
    "\n",
    "chat_model = ChatOpenAI(\n",
    "    model=\"deepseek-chat\",\n",
    "    base_url=os.getenv(\"OPENAI_BASE_URL\"),\n",
    "    api_key=os.getenv(\"OPENAI_API_KEY\"),\n",
    ")\n",
    "\n",
    "response = chat_model.invoke(\"你好\")\n",
    "print(response.content)"
   ]
  },
  {
   "cell_type": "code",
   "execution_count": null,
   "id": "c5f2c02c",
   "metadata": {},
   "outputs": [
    {
     "name": "stdout",
     "output_type": "stream",
     "text": [
      "你好呀！很高兴见到你！今天有什么我可以帮你的吗？😊\n"
     ]
    }
   ],
   "source": [
    "# OpenAI 调用\n",
    "from openai import OpenAI\n",
    "\n",
    "import os\n",
    "import dotenv\n",
    "\n",
    "dotenv.load_dotenv()\n",
    "\n",
    "client = OpenAI(\n",
    "    api_key=os.getenv(\"OPENAI_API_KEY\"),\n",
    "    base_url=os.getenv(\"OPENAI_BASE_URL\"),\n",
    ")\n",
    "\n",
    "completion = client.chat.completions.create(\n",
    "    model=\"deepseek-chat\",\n",
    "    messages=[\n",
    "        {\"role\": \"system\", \"content\": \"你是打招呼高手\"},\n",
    "        {\"role\": \"user\", \"content\": \"你好\"},\n",
    "    ],\n",
    "    top_p=0.7,\n",
    "        temperature=0.9,\n",
    ")\n",
    "\n",
    "print(completion.choices[0].message.content)\n"
   ]
  }
 ],
 "metadata": {
  "kernelspec": {
   "display_name": "langchain",
   "language": "python",
   "name": "python3"
  },
  "language_info": {
   "codemirror_mode": {
    "name": "ipython",
    "version": 3
   },
   "file_extension": ".py",
   "mimetype": "text/x-python",
   "name": "python",
   "nbconvert_exporter": "python",
   "pygments_lexer": "ipython3",
   "version": "3.10.18"
  }
 },
 "nbformat": 4,
 "nbformat_minor": 5
}
